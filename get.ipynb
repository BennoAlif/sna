{
 "cells": [
  {
   "cell_type": "code",
   "execution_count": 30,
   "metadata": {},
   "outputs": [],
   "source": [
    "import pandas as pd\n",
    "import numpy as np\n",
    "import tweepy"
   ]
  },
  {
   "cell_type": "code",
   "execution_count": 31,
   "metadata": {},
   "outputs": [],
   "source": [
    "BEARER_TOKEN = \"AAAAAAAAAAAAAAAAAAAAAEkYWAEAAAAAiCZ95QEqxNKuluivi0dNKwu%2BUIA%3DpXPhzD5xrJFlCx6roDUnzjJ6jtuh8wr2AyPhfZls4g4Yo4kH8y\"\n",
    "client = tweepy.Client(bearer_token=BEARER_TOKEN)"
   ]
  },
  {
   "cell_type": "code",
   "execution_count": 32,
   "metadata": {},
   "outputs": [],
   "source": [
    "# query = 'context:65.903303816698671104 lang:id' # Wellness & Health\n",
    "# query = 'context:65.1256236649253449729 lang:id' # Fashion & beauty\n",
    "# query = 'context:66.839160129752686593 lang:id' # Travel\n",
    "# query = 'context:152.825047692124442624 lang:id' # Food\n",
    "query = '(context:152.825047692124442624 OR context:66.839160129752686593 OR context:65.1256236649253449729 OR context:65.903303816698671104) lang:id' # Mixed"
   ]
  },
  {
   "cell_type": "code",
   "execution_count": 33,
   "metadata": {},
   "outputs": [],
   "source": [
    "tweets_data = []\n",
    "tweets_user = []\n",
    "\n",
    "for response in tweepy.Paginator(client.search_recent_tweets,\n",
    "                                query=query,\n",
    "                                tweet_fields = [\"created_at\", \"text\", \"author_id\", \"entities\", \"in_reply_to_user_id\", \"context_annotations\"],\n",
    "                                user_fields = [\"username\"],\n",
    "                                max_results = 100,\n",
    "                                expansions='author_id', limit=100):\n",
    "  \n",
    "    tweets_data += response.data\n",
    "    tweets_user += response.includes[\"users\"]"
   ]
  },
  {
   "cell_type": "code",
   "execution_count": 34,
   "metadata": {},
   "outputs": [],
   "source": [
    "tweets_data_df = pd.DataFrame(tweets_data)\n",
    "tweets_user_df = pd.DataFrame(tweets_user)"
   ]
  },
  {
   "cell_type": "code",
   "execution_count": 35,
   "metadata": {},
   "outputs": [
    {
     "data": {
      "text/html": [
       "<div>\n",
       "<style scoped>\n",
       "    .dataframe tbody tr th:only-of-type {\n",
       "        vertical-align: middle;\n",
       "    }\n",
       "\n",
       "    .dataframe tbody tr th {\n",
       "        vertical-align: top;\n",
       "    }\n",
       "\n",
       "    .dataframe thead th {\n",
       "        text-align: right;\n",
       "    }\n",
       "</style>\n",
       "<table border=\"1\" class=\"dataframe\">\n",
       "  <thead>\n",
       "    <tr style=\"text-align: right;\">\n",
       "      <th></th>\n",
       "      <th>author_id</th>\n",
       "      <th>context_annotations</th>\n",
       "      <th>created_at</th>\n",
       "      <th>entities</th>\n",
       "      <th>id</th>\n",
       "      <th>in_reply_to_user_id</th>\n",
       "      <th>text</th>\n",
       "    </tr>\n",
       "  </thead>\n",
       "  <tbody>\n",
       "    <tr>\n",
       "      <th>0</th>\n",
       "      <td>911714193828610048</td>\n",
       "      <td>[{'domain': {'id': '65', 'name': 'Interests an...</td>\n",
       "      <td>2022-07-03 19:01:38+00:00</td>\n",
       "      <td>{'urls': [{'start': 30, 'end': 53, 'url': 'htt...</td>\n",
       "      <td>1543671325889380354</td>\n",
       "      <td>NaN</td>\n",
       "      <td>RT @Azorukonn: Meditating uwu https://t.co/sOw...</td>\n",
       "    </tr>\n",
       "    <tr>\n",
       "      <th>1</th>\n",
       "      <td>978882263780937728</td>\n",
       "      <td>[{'domain': {'id': '65', 'name': 'Interests an...</td>\n",
       "      <td>2022-07-03 19:01:24+00:00</td>\n",
       "      <td>{'mentions': [{'start': 0, 'end': 15, 'usernam...</td>\n",
       "      <td>1543671264694308864</td>\n",
       "      <td>9.788823e+17</td>\n",
       "      <td>@ohmybeautybank penting bgt buat nata lagi soa...</td>\n",
       "    </tr>\n",
       "    <tr>\n",
       "      <th>2</th>\n",
       "      <td>781615938583924736</td>\n",
       "      <td>[{'domain': {'id': '45', 'name': 'Brand Vertic...</td>\n",
       "      <td>2022-07-03 19:01:21+00:00</td>\n",
       "      <td>{'urls': [{'start': 30, 'end': 53, 'url': 'htt...</td>\n",
       "      <td>1543671253512364036</td>\n",
       "      <td>NaN</td>\n",
       "      <td>RT @ryosuketarou: USJ×JUJUTSU https://t.co/W01...</td>\n",
       "    </tr>\n",
       "    <tr>\n",
       "      <th>3</th>\n",
       "      <td>2603170970</td>\n",
       "      <td>[{'domain': {'id': '46', 'name': 'Brand Catego...</td>\n",
       "      <td>2022-07-03 19:01:10+00:00</td>\n",
       "      <td>{'urls': [{'start': 130, 'end': 153, 'url': 'h...</td>\n",
       "      <td>1543671205642833922</td>\n",
       "      <td>NaN</td>\n",
       "      <td>[ TikTok #dystonia ]\\n\\n#duet with @\\dr.jmack ...</td>\n",
       "    </tr>\n",
       "    <tr>\n",
       "      <th>4</th>\n",
       "      <td>1531315317687078912</td>\n",
       "      <td>[{'domain': {'id': '46', 'name': 'Brand Catego...</td>\n",
       "      <td>2022-07-03 19:01:01+00:00</td>\n",
       "      <td>NaN</td>\n",
       "      <td>1543671171342008320</td>\n",
       "      <td>NaN</td>\n",
       "      <td>Maaf kalau ur parfum masih dior sauvage minggi...</td>\n",
       "    </tr>\n",
       "  </tbody>\n",
       "</table>\n",
       "</div>"
      ],
      "text/plain": [
       "             author_id                                context_annotations  \\\n",
       "0   911714193828610048  [{'domain': {'id': '65', 'name': 'Interests an...   \n",
       "1   978882263780937728  [{'domain': {'id': '65', 'name': 'Interests an...   \n",
       "2   781615938583924736  [{'domain': {'id': '45', 'name': 'Brand Vertic...   \n",
       "3           2603170970  [{'domain': {'id': '46', 'name': 'Brand Catego...   \n",
       "4  1531315317687078912  [{'domain': {'id': '46', 'name': 'Brand Catego...   \n",
       "\n",
       "                 created_at  \\\n",
       "0 2022-07-03 19:01:38+00:00   \n",
       "1 2022-07-03 19:01:24+00:00   \n",
       "2 2022-07-03 19:01:21+00:00   \n",
       "3 2022-07-03 19:01:10+00:00   \n",
       "4 2022-07-03 19:01:01+00:00   \n",
       "\n",
       "                                            entities                   id  \\\n",
       "0  {'urls': [{'start': 30, 'end': 53, 'url': 'htt...  1543671325889380354   \n",
       "1  {'mentions': [{'start': 0, 'end': 15, 'usernam...  1543671264694308864   \n",
       "2  {'urls': [{'start': 30, 'end': 53, 'url': 'htt...  1543671253512364036   \n",
       "3  {'urls': [{'start': 130, 'end': 153, 'url': 'h...  1543671205642833922   \n",
       "4                                                NaN  1543671171342008320   \n",
       "\n",
       "   in_reply_to_user_id                                               text  \n",
       "0                  NaN  RT @Azorukonn: Meditating uwu https://t.co/sOw...  \n",
       "1         9.788823e+17  @ohmybeautybank penting bgt buat nata lagi soa...  \n",
       "2                  NaN  RT @ryosuketarou: USJ×JUJUTSU https://t.co/W01...  \n",
       "3                  NaN  [ TikTok #dystonia ]\\n\\n#duet with @\\dr.jmack ...  \n",
       "4                  NaN  Maaf kalau ur parfum masih dior sauvage minggi...  "
      ]
     },
     "execution_count": 35,
     "metadata": {},
     "output_type": "execute_result"
    }
   ],
   "source": [
    "tweets_data_df.head()"
   ]
  },
  {
   "cell_type": "code",
   "execution_count": 36,
   "metadata": {},
   "outputs": [
    {
     "data": {
      "text/html": [
       "<div>\n",
       "<style scoped>\n",
       "    .dataframe tbody tr th:only-of-type {\n",
       "        vertical-align: middle;\n",
       "    }\n",
       "\n",
       "    .dataframe tbody tr th {\n",
       "        vertical-align: top;\n",
       "    }\n",
       "\n",
       "    .dataframe thead th {\n",
       "        text-align: right;\n",
       "    }\n",
       "</style>\n",
       "<table border=\"1\" class=\"dataframe\">\n",
       "  <thead>\n",
       "    <tr style=\"text-align: right;\">\n",
       "      <th></th>\n",
       "      <th>id</th>\n",
       "      <th>name</th>\n",
       "      <th>username</th>\n",
       "    </tr>\n",
       "  </thead>\n",
       "  <tbody>\n",
       "    <tr>\n",
       "      <th>0</th>\n",
       "      <td>911714193828610048</td>\n",
       "      <td>🎐Azo☁️</td>\n",
       "      <td>Azorukonn</td>\n",
       "    </tr>\n",
       "    <tr>\n",
       "      <th>1</th>\n",
       "      <td>978882263780937728</td>\n",
       "      <td>Cherry up, Ki bok! 🍒</td>\n",
       "      <td>timtempe</td>\n",
       "    </tr>\n",
       "    <tr>\n",
       "      <th>2</th>\n",
       "      <td>781615938583924736</td>\n",
       "      <td>lin</td>\n",
       "      <td>eraeshkigal</td>\n",
       "    </tr>\n",
       "    <tr>\n",
       "      <th>3</th>\n",
       "      <td>2603170970</td>\n",
       "      <td>dystobot</td>\n",
       "      <td>dystobot</td>\n",
       "    </tr>\n",
       "    <tr>\n",
       "      <th>4</th>\n",
       "      <td>1531315317687078912</td>\n",
       "      <td>England 🍭</td>\n",
       "      <td>englandwine</td>\n",
       "    </tr>\n",
       "  </tbody>\n",
       "</table>\n",
       "</div>"
      ],
      "text/plain": [
       "                    id                  name     username\n",
       "0   911714193828610048                🎐Azo☁️    Azorukonn\n",
       "1   978882263780937728  Cherry up, Ki bok! 🍒     timtempe\n",
       "2   781615938583924736                   lin  eraeshkigal\n",
       "3           2603170970              dystobot     dystobot\n",
       "4  1531315317687078912             England 🍭  englandwine"
      ]
     },
     "execution_count": 36,
     "metadata": {},
     "output_type": "execute_result"
    }
   ],
   "source": [
    "tweets_user_df.head()"
   ]
  },
  {
   "cell_type": "code",
   "execution_count": 37,
   "metadata": {},
   "outputs": [],
   "source": [
    "tweets_df = tweets_user_df.rename(columns={\"id\": \"author_id\"})\n",
    "# tweets_df.pop(\"withheld\")\n",
    "tweets_df = tweets_df.drop_duplicates()\n",
    "df = tweets_data_df.merge(tweets_df, left_on='author_id', right_on='author_id')\n",
    "df.to_csv(\"tweets-04-07.csv\")"
   ]
  },
  {
   "cell_type": "code",
   "execution_count": 38,
   "metadata": {},
   "outputs": [
    {
     "name": "stdout",
     "output_type": "stream",
     "text": [
      "<class 'pandas.core.frame.DataFrame'>\n",
      "Int64Index: 9916 entries, 0 to 9915\n",
      "Data columns (total 9 columns):\n",
      " #   Column               Non-Null Count  Dtype              \n",
      "---  ------               --------------  -----              \n",
      " 0   author_id            9916 non-null   int64              \n",
      " 1   context_annotations  9916 non-null   object             \n",
      " 2   created_at           9916 non-null   datetime64[ns, UTC]\n",
      " 3   entities             9230 non-null   object             \n",
      " 4   id                   9916 non-null   int64              \n",
      " 5   in_reply_to_user_id  2347 non-null   float64            \n",
      " 6   text                 9916 non-null   object             \n",
      " 7   name                 9916 non-null   object             \n",
      " 8   username             9916 non-null   object             \n",
      "dtypes: datetime64[ns, UTC](1), float64(1), int64(2), object(5)\n",
      "memory usage: 774.7+ KB\n"
     ]
    }
   ],
   "source": [
    "df.info()"
   ]
  },
  {
   "cell_type": "code",
   "execution_count": 39,
   "metadata": {},
   "outputs": [
    {
     "name": "stdout",
     "output_type": "stream",
     "text": [
      "Online Site\n",
      "Services\n",
      "TikTok\n",
      "TikTok\n",
      "Wellness and health\n",
      "Mental health\n",
      "Social media\n"
     ]
    }
   ],
   "source": [
    "for i in df[\"context_annotations\"][4]:\n",
    "  print(i[\"entity\"][\"name\"])"
   ]
  }
 ],
 "metadata": {
  "interpreter": {
   "hash": "671a6aa7e5f53b45fe807cb744f50ebce4c530f21920d4a62ee77cb740d991f9"
  },
  "kernelspec": {
   "display_name": "Python 3.9.7 ('base')",
   "language": "python",
   "name": "python3"
  },
  "language_info": {
   "codemirror_mode": {
    "name": "ipython",
    "version": 3
   },
   "file_extension": ".py",
   "mimetype": "text/x-python",
   "name": "python",
   "nbconvert_exporter": "python",
   "pygments_lexer": "ipython3",
   "version": "3.9.12"
  },
  "orig_nbformat": 4
 },
 "nbformat": 4,
 "nbformat_minor": 2
}
